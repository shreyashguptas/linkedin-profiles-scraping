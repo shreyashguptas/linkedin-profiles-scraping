{
 "cells": [
  {
   "cell_type": "code",
   "execution_count": 8,
   "metadata": {},
   "outputs": [],
   "source": [
    "# %pip install requests pandas pyyaml tqdm"
   ]
  },
  {
   "cell_type": "code",
   "execution_count": 2,
   "metadata": {},
   "outputs": [
    {
     "name": "stderr",
     "output_type": "stream",
     "text": [
      "100%|██████████| 22/22 [44:31<00:00, 121.42s/it]"
     ]
    },
    {
     "name": "stdout",
     "output_type": "stream",
     "text": [
      "Scraping completed. Data saved to 'data/scraped_data.csv'\n"
     ]
    },
    {
     "name": "stderr",
     "output_type": "stream",
     "text": [
      "\n"
     ]
    }
   ],
   "source": [
    "import requests\n",
    "import pandas as pd\n",
    "import yaml\n",
    "import time\n",
    "from tqdm import tqdm\n",
    "\n",
    "# Load API key from config file\n",
    "with open('config.yaml', 'r') as config_file:\n",
    "    config = yaml.safe_load(config_file)\n",
    "    api_key = config['api_key']\n",
    "\n",
    "# Read LinkedIn URLs from CSV\n",
    "df = pd.read_csv('data/Customer Discovery Excel 1.csv')\n",
    "linkedin_urls = df['LinkedIn URL'].dropna().tolist()\n",
    "\n",
    "# Initialize list to store scraped data\n",
    "scraped_data = []\n",
    "\n",
    "# Scrapetable API endpoint\n",
    "url = 'https://api.scrapetable.com/linkedin/profiles'\n",
    "\n",
    "# Scrape data in batches of 50\n",
    "for i in tqdm(range(0, len(linkedin_urls), 50)):\n",
    "    batch = linkedin_urls[i:i+50]\n",
    "    \n",
    "    payload = {\n",
    "        'links': batch,\n",
    "        'flatten': False\n",
    "    }\n",
    "    \n",
    "    headers = {\n",
    "        'Content-Type': 'application/json',\n",
    "        'api-key': api_key\n",
    "    }\n",
    "    \n",
    "    response = requests.post(url, json=payload, headers=headers)\n",
    "    \n",
    "    if response.status_code == 200:\n",
    "        data = response.json()\n",
    "        scraped_data.extend(data)\n",
    "    else:\n",
    "        print(f\"Error for batch starting at index {i}: {response.status_code}\")\n",
    "    \n",
    "    # Sleep for 2 minutes after each batch (except the last one)\n",
    "    if i + 50 < len(linkedin_urls):\n",
    "        time.sleep(120)\n",
    "\n",
    "# Convert scraped data to DataFrame\n",
    "result_df = pd.DataFrame(scraped_data)\n",
    "\n",
    "# Export scraped data to CSV\n",
    "result_df.to_csv('data/scraped_data.csv', index=False)\n",
    "\n",
    "print(\"Scraping completed. Data saved to 'data/scraped_data.csv'\")"
   ]
  },
  {
   "cell_type": "code",
   "execution_count": 7,
   "metadata": {},
   "outputs": [
    {
     "name": "stdout",
     "output_type": "stream",
     "text": [
      "Conda environment file 'environment.yml' has been created without specific paths.\n"
     ]
    }
   ],
   "source": [
    "# Generate conda environment file\n",
    "!conda env export --from-history > environment.yml\n",
    "\n",
    "# Remove specific path from the environment file\n",
    "with open('environment.yml', 'r') as file:\n",
    "    lines = file.readlines()\n",
    "\n",
    "with open('environment.yml', 'w') as file:\n",
    "    for line in lines:\n",
    "        if not line.startswith('prefix:'):\n",
    "            file.write(line)\n",
    "\n",
    "print(\"Conda environment file 'environment.yml' has been created without specific paths.\")"
   ]
  },
  {
   "cell_type": "code",
   "execution_count": null,
   "metadata": {},
   "outputs": [],
   "source": []
  }
 ],
 "metadata": {
  "kernelspec": {
   "display_name": "Python 3",
   "language": "python",
   "name": "python3"
  },
  "language_info": {
   "codemirror_mode": {
    "name": "ipython",
    "version": 3
   },
   "file_extension": ".py",
   "mimetype": "text/x-python",
   "name": "python",
   "nbconvert_exporter": "python",
   "pygments_lexer": "ipython3",
   "version": "3.11.9"
  }
 },
 "nbformat": 4,
 "nbformat_minor": 2
}
